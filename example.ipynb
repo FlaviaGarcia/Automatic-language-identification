{
 "cells": [
  {
   "cell_type": "code",
   "execution_count": 68,
   "metadata": {},
   "outputs": [],
   "source": [
    "import sounddevice as sd\n",
    "from sidekit.frontend.features import plp, compute_delta, mfcc\n",
    "import numpy as np\n",
    "import librosa\n",
    "from tensorflow.keras.models import load_model"
   ]
  },
  {
   "cell_type": "code",
   "execution_count": 127,
   "metadata": {},
   "outputs": [],
   "source": [
    "## Loadding model\n",
    "model = load_model('resnet_best.h5')\n",
    "#model = load_model('best_of_the_best_model_lstm.h5')\n",
    "# resnet dictionary\n",
    "classes = {'kab': 0, 'fa': 1, 'en': 2, 'fr': 3, 'ru': 4, 'es': 5, 'it': 6, 'de': 7}\n",
    "#lstm dictionary\n",
    "#classes = {'persian': 0, 'english': 1, 'german': 2, 'spanish': 3, 'italian': 4, 'kabile': 5, 'russian': 6, 'french': 7}"
   ]
  },
  {
   "cell_type": "code",
   "execution_count": 173,
   "metadata": {},
   "outputs": [],
   "source": [
    "#record sound\n",
    "duration = 2.5  # seconds\n",
    "fs = 16000\n",
    "myrecording = sd.rec(int(duration * fs*1.5), samplerate=fs, channels=1)\n",
    "sd.wait()\n",
    "myrecording = myrecording.reshape(-1)\n",
    "myrecording, _ = librosa.effects.trim(myrecording)\n",
    "myrecording = myrecording[:int(duration*fs)]"
   ]
  },
  {
   "cell_type": "code",
   "execution_count": 174,
   "metadata": {},
   "outputs": [],
   "source": [
    "# play sound\n",
    "sd.play(myrecording, fs)"
   ]
  },
  {
   "cell_type": "code",
   "execution_count": 123,
   "metadata": {},
   "outputs": [
    {
     "name": "stdout",
     "output_type": "stream",
     "text": [
      "(1, 75, 39)\n"
     ]
    }
   ],
   "source": [
    "# feature extraction\n",
    "# for LSTM\n",
    "feat_item = plp(myrecording, fs=fs, rasta=False, nwin=.128, shift=.032)[0]\n",
    "feat_delta1 = compute_delta(feat_item)\n",
    "feat_delta2 = compute_delta(feat_delta1)\n",
    "feat = np.concatenate((feat_item, feat_delta1, feat_delta2), axis=1).T\n",
    "feat = ((feat - np.mean(feat))/np.var(feat)).reshape(*feat.shape, 1).T\n",
    "print(feat.shape)"
   ]
  },
  {
   "cell_type": "code",
   "execution_count": 175,
   "metadata": {},
   "outputs": [
    {
     "name": "stdout",
     "output_type": "stream",
     "text": [
      "(1, 128, 79, 1)\n"
     ]
    }
   ],
   "source": [
    "# feature extraction\n",
    "# for CNN & ResNet\n",
    "feat_item = librosa.feature.melspectrogram(myrecording, sr=fs)\n",
    "feat = librosa.power_to_db(feat_item, ref=np.max).reshape((1,*feat_item.shape, 1))\n",
    "feat = ((feat - np.mean(feat))/np.var(feat))\n",
    "print(feat.shape)"
   ]
  },
  {
   "cell_type": "code",
   "execution_count": 176,
   "metadata": {},
   "outputs": [
    {
     "name": "stdout",
     "output_type": "stream",
     "text": [
      "en\n"
     ]
    }
   ],
   "source": [
    "prediction = model.predict(feat)\n",
    "print(list(classes.keys())[np.argmax(prediction[0])])"
   ]
  },
  {
   "cell_type": "code",
   "execution_count": 177,
   "metadata": {},
   "outputs": [
    {
     "data": {
      "text/plain": [
       "array([[3.6559118e-06, 2.5280264e-07, 9.8529577e-01, 1.3632525e-04,\n",
       "        2.8389775e-09, 1.0657275e-04, 3.6096011e-05, 1.4421425e-02]],\n",
       "      dtype=float32)"
      ]
     },
     "execution_count": 177,
     "metadata": {},
     "output_type": "execute_result"
    }
   ],
   "source": [
    "prediction"
   ]
  },
  {
   "cell_type": "code",
   "execution_count": null,
   "metadata": {},
   "outputs": [],
   "source": []
  },
  {
   "cell_type": "code",
   "execution_count": null,
   "metadata": {},
   "outputs": [],
   "source": []
  }
 ],
 "metadata": {
  "kernelspec": {
   "display_name": "Python 3",
   "language": "python",
   "name": "python3"
  },
  "language_info": {
   "codemirror_mode": {
    "name": "ipython",
    "version": 3
   },
   "file_extension": ".py",
   "mimetype": "text/x-python",
   "name": "python",
   "nbconvert_exporter": "python",
   "pygments_lexer": "ipython3",
   "version": "3.7.4"
  }
 },
 "nbformat": 4,
 "nbformat_minor": 4
}
